{
 "cells": [
  {
   "cell_type": "markdown",
   "metadata": {},
   "source": [
    "# Renco - OBV strategy"
   ]
  },
  {
   "cell_type": "markdown",
   "metadata": {},
   "source": [
    "# how the strategy works:\n",
    "\n",
    "We assume that two renco bars with big obv slope leads to further growth of the market\n",
    "\n",
    "Renko is a special type of data representation that is independent of time. \n",
    "Each Renko brick is formed depending on the increase or fall of the market by a certain amount\n",
    "\n",
    "For simplicity, the transaction fee is assumed to be 0\n",
    "\n",
    "We use time between 09:35 and 16:00 as regular trading hours\n",
    "\n",
    "We use 5 minute trading bars\n",
    "\n",
    "<ol>\n",
    " <li>Average True Range (ATR) - we need this for calculating the stop loss</li>\n",
    " <li>Cumulative Annual Growth Rate (CAGR) for comparison of the strategy at different stock</li>\n",
    " <li>Slope to determine the market trend</li>\n",
    "</ol>\n",
    "\n",
    "Additional materials used: \n",
    "https://www.udemy.com/course/algorithmic-trading-quantitative-analysis-using-python/\n",
    "Renco https://www.youtube.com/watch?v=8lA9vk8SRDE"
   ]
  },
  {
   "cell_type": "code",
   "execution_count": 1,
   "metadata": {},
   "outputs": [
    {
     "data": {
      "text/html": [
       "<style>.container { width:100% !important; }</style>"
      ],
      "text/plain": [
       "<IPython.core.display.HTML object>"
      ]
     },
     "metadata": {},
     "output_type": "display_data"
    }
   ],
   "source": [
    "import numpy as np\n",
    "import pandas as pd\n",
    "pd.set_option('display.max_rows', 500)\n",
    "pd.set_option('display.max_columns', 500)\n",
    "\n",
    "from stocktrends import Renko\n",
    "import statsmodels.api as sm\n",
    "# alpha_vantage is library for getting some more stock\n",
    "from alpha_vantage.timeseries import TimeSeries\n",
    "import copy\n",
    "\n",
    "\n",
    "\n",
    "from IPython.core.display import display, HTML\n",
    "display(HTML(\"<style>.container { width:100% !important; }</style>\"))\n",
    "\n",
    "\n",
    "def ATR(DF,n):\n",
    "    \"function to calculate True Range and Average True Range\"\n",
    "    df = DF.copy()\n",
    "    df['H-L']=abs(df['High']-df['Low'])\n",
    "    df['H-PC']=abs(df['High']-df['Close'].shift(1))\n",
    "    df['L-PC']=abs(df['Low']-df['Close'].shift(1))\n",
    "    df['TR']=df[['H-L','H-PC','L-PC']].max(axis=1,skipna=False)\n",
    "    df['ATR'] = df['TR'].rolling(n).mean()\n",
    "    df2 = df.drop(['H-L','H-PC','L-PC'],axis=1)\n",
    "    return df2\n",
    "\n",
    "def slope(ser,n):\n",
    "    \"function to calculate the slope of n consecutive points on a plot\"\n",
    "    slopes = [i*0 for i in range(n-1)]\n",
    "    for i in range(n,len(ser)+1):\n",
    "        y = ser[i-n:i]\n",
    "        x = np.array(range(n))\n",
    "        y_scaled = (y - y.min())/(y.max() - y.min())\n",
    "        x_scaled = (x - x.min())/(x.max() - x.min())\n",
    "        x_scaled = sm.add_constant(x_scaled)\n",
    "        model = sm.OLS(y_scaled,x_scaled)\n",
    "        results = model.fit()\n",
    "        slopes.append(results.params[-1])\n",
    "    slope_angle = (np.rad2deg(np.arctan(np.array(slopes))))\n",
    "    return np.array(slope_angle)\n",
    "\n",
    "\n",
    "def renko_DF(DF):\n",
    "    \"function to convert ohlc data into renko bricks\"\n",
    "    df = DF.copy()\n",
    "    df.reset_index(inplace=True)\n",
    "    df.columns = [\"date\",\"open\",\"high\",\"low\",\"close\",\"volume\"]\n",
    "    df2 = Renko(df)\n",
    "    df2.brick_size = max(0.5,round(ATR(DF,120)[\"ATR\"][-1],0))\n",
    "    renko_df = df2.get_ohlc_data()\n",
    "    renko_df[\"bar_num\"] = np.where(renko_df[\"uptrend\"]==True,1,np.where(renko_df[\"uptrend\"]==False,-1,0))\n",
    "    for i in range(1,len(renko_df[\"bar_num\"])):\n",
    "        if renko_df[\"bar_num\"][i]>0 and renko_df[\"bar_num\"][i-1]>0:\n",
    "            renko_df[\"bar_num\"][i]+=renko_df[\"bar_num\"][i-1]\n",
    "        elif renko_df[\"bar_num\"][i]<0 and renko_df[\"bar_num\"][i-1]<0:\n",
    "            renko_df[\"bar_num\"][i]+=renko_df[\"bar_num\"][i-1]\n",
    "    renko_df.drop_duplicates(subset=\"date\",keep=\"last\",inplace=True)\n",
    "    return renko_df\n",
    "\n",
    "def OBV(DF):\n",
    "    \"\"\"function to calculate On Balance Volume\"\"\"\n",
    "    df = DF.copy()\n",
    "    df['daily_ret'] = df['Close'].pct_change()\n",
    "    df['direction'] = np.where(df['daily_ret']>=0,1,-1)\n",
    "    df['direction'][0] = 0\n",
    "    df['vol_adj'] = df['Volume'] * df['direction']\n",
    "    df['obv'] = df['vol_adj'].cumsum()\n",
    "    return df['obv']\n",
    "\n",
    "def CAGR(DF):\n",
    "    \"function to calculate the Cumulative Annual Growth Rate of a trading strategy\"\n",
    "    df = DF.copy()\n",
    "    df[\"cum_return\"] = (1 + df[\"ret\"]).cumprod()\n",
    "    n = len(df)/(252*78)\n",
    "    CAGR = (df[\"cum_return\"].tolist()[-1])**(1/n) - 1\n",
    "    return CAGR\n",
    "\n",
    "def volatility(DF):\n",
    "    \"function to calculate annualized volatility of a trading strategy\"\n",
    "    df = DF.copy()\n",
    "    vol = df[\"ret\"].std() * np.sqrt(252*78)\n",
    "    return vol\n",
    "\n",
    "def sharpe(DF,rf):\n",
    "    \"function to calculate sharpe ratio ; rf is the risk free rate\"\n",
    "    df = DF.copy()\n",
    "    sr = (CAGR(df) - rf)/volatility(df)\n",
    "    return sr\n",
    "    \n",
    "\n",
    "def max_dd(DF):\n",
    "    \"function to calculate max drawdown\"\n",
    "    df = DF.copy()\n",
    "    df[\"cum_return\"] = (1 + df[\"ret\"]).cumprod()\n",
    "    df[\"cum_roll_max\"] = df[\"cum_return\"].cummax()\n",
    "    df[\"drawdown\"] = df[\"cum_roll_max\"] - df[\"cum_return\"]\n",
    "    df[\"drawdown_pct\"] = df[\"drawdown\"]/df[\"cum_roll_max\"]\n",
    "    max_dd = df[\"drawdown_pct\"].max()\n",
    "    return max_dd"
   ]
  },
  {
   "cell_type": "code",
   "execution_count": 2,
   "metadata": {},
   "outputs": [],
   "source": [
    "# Download historical data for DJI constituent stocks\n",
    "\n",
    "tickers = [\"AAPL\",\"MSFT\", \"SPY\"]\n",
    "# you can get your own API key here: https://www.alphavantage.co/\n",
    "ts = TimeSeries(key='MRA63QBLDA8JNZJW', output_format='pandas')\n",
    "\n",
    "ohlc_intraday = {} # directory with ohlc value for each stock   \n",
    "\n",
    "for ticker in tickers:\n",
    "    data = ts.get_intraday(symbol=ticker,interval='5min', outputsize='full')[0]\n",
    "\n",
    "    data.columns = [\"Open\",\"High\",\"Low\",\"Close\",\"Volume\"]\n",
    "#     because we get data reversing order from alpha_vantage\n",
    "    data = data.iloc[::-1]\n",
    "    data = data.between_time('09:35', '16:00') #remove data outside regular trading hours\n",
    "    ohlc_intraday[ticker] = data"
   ]
  },
  {
   "cell_type": "code",
   "execution_count": 3,
   "metadata": {},
   "outputs": [],
   "source": [
    "euros = pd.read_csv('eurostoxx_data.csv', index_col='DateTime')\n",
    "euros.index = pd.to_datetime(euros.index)\n",
    "euros = euros.between_time('09:35', '16:00')\n",
    "\n",
    "# resample to 5 minutes dataframe\n",
    "conversion = {'Open' : 'first', 'High' : 'max', 'Low' : 'min', 'Close' : 'last', 'Volume' : 'sum'}\n",
    "euros = euros.resample('5min').agg(conversion)\n",
    "# because resample automatically adds days off filled with NaN\n",
    "euros.dropna(inplace=True)\n",
    "# because for renco we need same column names for each time series\n",
    "euros.index.names = ['date']\n",
    "\n",
    "ohlc_intraday[\"EUROS\"] = euros\n",
    "\n",
    "tickers = ohlc_intraday.keys()"
   ]
  },
  {
   "cell_type": "code",
   "execution_count": 4,
   "metadata": {},
   "outputs": [
    {
     "name": "stdout",
     "output_type": "stream",
     "text": [
      "merging for  AAPL\n"
     ]
    },
    {
     "name": "stderr",
     "output_type": "stream",
     "text": [
      "<ipython-input-1-c9de2b0c41a2>:56: SettingWithCopyWarning: \n",
      "A value is trying to be set on a copy of a slice from a DataFrame\n",
      "\n",
      "See the caveats in the documentation: https://pandas.pydata.org/pandas-docs/stable/user_guide/indexing.html#returning-a-view-versus-a-copy\n",
      "  renko_df[\"bar_num\"][i]+=renko_df[\"bar_num\"][i-1]\n",
      "<ipython-input-1-c9de2b0c41a2>:58: SettingWithCopyWarning: \n",
      "A value is trying to be set on a copy of a slice from a DataFrame\n",
      "\n",
      "See the caveats in the documentation: https://pandas.pydata.org/pandas-docs/stable/user_guide/indexing.html#returning-a-view-versus-a-copy\n",
      "  renko_df[\"bar_num\"][i]+=renko_df[\"bar_num\"][i-1]\n",
      "<ipython-input-1-c9de2b0c41a2>:67: SettingWithCopyWarning: \n",
      "A value is trying to be set on a copy of a slice from a DataFrame\n",
      "\n",
      "See the caveats in the documentation: https://pandas.pydata.org/pandas-docs/stable/user_guide/indexing.html#returning-a-view-versus-a-copy\n",
      "  df['direction'][0] = 0\n"
     ]
    },
    {
     "name": "stdout",
     "output_type": "stream",
     "text": [
      "merging for  MSFT\n",
      "merging for  SPY\n",
      "merging for  EUROS\n"
     ]
    }
   ],
   "source": [
    "#Merging renko df with original ohlc df\n",
    "# Here we use Renco library for generating bricks\n",
    "ohlc_renko = {}\n",
    "df = copy.deepcopy(ohlc_intraday)\n",
    "tickers_signal = {}\n",
    "tickers_ret = {}\n",
    "for ticker in tickers:\n",
    "    print(\"merging for \",ticker)\n",
    "    renko = renko_DF(df[ticker])\n",
    "    renko.columns = [\"Date\",\"open\",\"high\",\"low\",\"close\",\"uptrend\",\"bar_num\"]\n",
    "    df[ticker][\"Date\"] = df[ticker].index\n",
    "#     Because Renco is time independant, we have to use 'merge'\n",
    "    ohlc_renko[ticker] = df[ticker].merge(renko.loc[:,[\"Date\",\"bar_num\"]],how=\"outer\",on=\"Date\")\n",
    "    ohlc_renko[ticker][\"bar_num\"].fillna(method='ffill',inplace=True)\n",
    "    ohlc_renko[ticker][\"obv\"]= OBV(ohlc_renko[ticker])\n",
    "    ohlc_renko[ticker][\"obv_slope\"]= slope(ohlc_renko[ticker][\"obv\"],5)\n",
    "    tickers_signal[ticker] = \"\"\n",
    "    tickers_ret[ticker] = []"
   ]
  },
  {
   "cell_type": "code",
   "execution_count": null,
   "metadata": {},
   "outputs": [],
   "source": []
  },
  {
   "cell_type": "code",
   "execution_count": null,
   "metadata": {},
   "outputs": [],
   "source": []
  },
  {
   "cell_type": "code",
   "execution_count": null,
   "metadata": {},
   "outputs": [],
   "source": []
  },
  {
   "cell_type": "code",
   "execution_count": null,
   "metadata": {},
   "outputs": [],
   "source": []
  },
  {
   "cell_type": "code",
   "execution_count": null,
   "metadata": {},
   "outputs": [],
   "source": [
    "#Identifying signals and calculating daily return\n",
    "for ticker in tickers:\n",
    "    print(\"calculating daily returns for \",ticker)\n",
    "    for i in range(len(ohlc_intraday[ticker])):\n",
    "        if tickers_signal[ticker] == \"\":\n",
    "            tickers_ret[ticker].append(0)\n",
    "#             if we have 2 and more Renco up bricks, and slope more than 30 degree we produce \"Buy\" signal\n",
    "            if ohlc_renko[ticker][\"bar_num\"][i]>=2 and ohlc_renko[ticker][\"obv_slope\"][i]>30:\n",
    "                tickers_signal[ticker] = \"Buy\"\n",
    "#             if we have 2 and more Renco down bricks, and slope less than -30 degree we assume down trend and  produce \"Sell\" signal\n",
    "            elif ohlc_renko[ticker][\"bar_num\"][i]<=-2 and ohlc_renko[ticker][\"obv_slope\"][i]<-30:\n",
    "                tickers_signal[ticker] = \"Sell\"\n",
    "#         Stop loss generation \n",
    "        elif tickers_signal[ticker] == \"Buy\":\n",
    "            tickers_ret[ticker].append((ohlc_renko[ticker][\"Close\"][i]/ohlc_renko[ticker][\"Close\"][i-1])-1)\n",
    "            if ohlc_renko[ticker][\"bar_num\"][i]<=-2 and ohlc_renko[ticker][\"obv_slope\"][i]<-30:\n",
    "                tickers_signal[ticker] = \"Sell\"\n",
    "            elif ohlc_renko[ticker][\"bar_num\"][i]<2:\n",
    "                tickers_signal[ticker] = \"\"\n",
    "                \n",
    "        elif tickers_signal[ticker] == \"Sell\":\n",
    "            tickers_ret[ticker].append((ohlc_renko[ticker][\"Close\"][i-1]/ohlc_renko[ticker][\"Close\"][i])-1)\n",
    "            if ohlc_renko[ticker][\"bar_num\"][i]>=2 and ohlc_renko[ticker][\"obv_slope\"][i]>30:\n",
    "                tickers_signal[ticker] = \"Buy\"\n",
    "            elif ohlc_renko[ticker][\"bar_num\"][i]>-2:\n",
    "                tickers_signal[ticker] = \"\"\n",
    "    ohlc_renko[ticker][\"ret\"] = np.array(tickers_ret[ticker])"
   ]
  },
  {
   "cell_type": "code",
   "execution_count": null,
   "metadata": {
    "scrolled": true
   },
   "outputs": [],
   "source": [
    "# calculating overall strategy's KPIs\n",
    "strategy_df = pd.DataFrame()\n",
    "for ticker in tickers:\n",
    "#     Cause of different time range we calculate \"EUROS\" separatly\n",
    "    if ticker == 'EUROS': continue\n",
    "    strategy_df[ticker] = ohlc_renko[ticker][\"ret\"]\n",
    "strategy_df[\"ret\"] = strategy_df.mean(axis=1)\n",
    "\n",
    "# vizualization of strategy return\n",
    "(1+strategy_df[\"ret\"]).cumprod().plot()\n",
    "\n",
    "#calculating individual stock's KPIs\n",
    "cagr = {}\n",
    "sharpe_ratios = {}\n",
    "max_drawdown = {}\n",
    "for ticker in tickers :\n",
    "      \n",
    "    cagr[ticker] =  CAGR(ohlc_renko[ticker])\n",
    "    sharpe_ratios[ticker] =  sharpe(ohlc_renko[ticker],0.025)\n",
    "    max_drawdown[ticker] =  max_dd(ohlc_renko[ticker])\n",
    "\n",
    "KPI_df = pd.DataFrame([cagr,sharpe_ratios,max_drawdown],index=[\"Return\",\"Sharpe Ratio\",\"Max Drawdown\"])      \n",
    "KPI_df.T"
   ]
  },
  {
   "cell_type": "code",
   "execution_count": null,
   "metadata": {},
   "outputs": [],
   "source": [
    "(1+ohlc_renko['EUROS'][\"ret\"]).cumprod().plot()"
   ]
  },
  {
   "cell_type": "markdown",
   "metadata": {},
   "source": [
    "# Things to improve"
   ]
  },
  {
   "cell_type": "markdown",
   "metadata": {},
   "source": [
    "<ol>\n",
    " <li>Overnight positions is allowed, which introduces a significant risk to the strategy</li>\n",
    " <li>Addition test on different time intervals required</li>\n",
    " <li>Addition test on different stocks required</li>\n",
    " <li>Need add a fee to each transaction</li>\n",
    " <li>Different slope degree or renco bricks number can increase sharpe</li>\n",
    "</ol>\n",
    "Аn interesting strategy that uses a time-independent indicator. You can play with the parameters with which slope and the number of bricks will provide better signals. Also more volatile stocks generate more signals."
   ]
  }
 ],
 "metadata": {
  "kernelspec": {
   "display_name": "Python 3",
   "language": "python",
   "name": "python3"
  },
  "language_info": {
   "codemirror_mode": {
    "name": "ipython",
    "version": 3
   },
   "file_extension": ".py",
   "mimetype": "text/x-python",
   "name": "python",
   "nbconvert_exporter": "python",
   "pygments_lexer": "ipython3",
   "version": "3.8.3"
  }
 },
 "nbformat": 4,
 "nbformat_minor": 4
}
